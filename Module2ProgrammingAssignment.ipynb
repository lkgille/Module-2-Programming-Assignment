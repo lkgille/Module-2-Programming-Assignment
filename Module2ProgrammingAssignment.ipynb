{
 "cells": [
  {
   "cell_type": "code",
   "execution_count": 1,
   "id": "c6a4e840-5b88-4703-bac7-c794676b425b",
   "metadata": {},
   "outputs": [
    {
     "name": "stdout",
     "output_type": "stream",
     "text": [
      "Too low.\n"
     ]
    }
   ],
   "source": [
    "# 4.1\n",
    "\n",
    "secret = 7\n",
    "guess = 5\n",
    "\n",
    "if guess < secret:\n",
    "    print(\"Too low.\")\n",
    "if guess > secret: \n",
    "    print(\"Too high.\")\n",
    "if guess == secret:\n",
    "    print(\"Just right.\")"
   ]
  },
  {
   "cell_type": "code",
   "execution_count": 3,
   "id": "64c092ec-e681-467d-a9ca-2cd0567c819d",
   "metadata": {},
   "outputs": [
    {
     "name": "stdout",
     "output_type": "stream",
     "text": [
      "Pumpkin\n"
     ]
    }
   ],
   "source": [
    "# 4.2\n",
    "\n",
    "small = False\n",
    "green = False\n",
    "\n",
    "if small and green:\n",
    "    print(\"Pea\")\n",
    "elif small and not green:\n",
    "    print(\"Cherry\")\n",
    "elif not small and green:\n",
    "    print(\"Watermelon\")\n",
    "else:\n",
    "    print(\"Pumpkin\") # If none of the above are true, prints \"Pumpkin\""
   ]
  },
  {
   "cell_type": "code",
   "execution_count": 5,
   "id": "d12725c7-aeac-4068-b581-8ce2e92e6a41",
   "metadata": {},
   "outputs": [
    {
     "name": "stdout",
     "output_type": "stream",
     "text": [
      "3\n",
      "2\n",
      "1\n",
      "0\n"
     ]
    }
   ],
   "source": [
    "# 6.1\n",
    "\n",
    "numbers = [3, 2, 1, 0]\n",
    "\n",
    "for number in numbers: # For each number in the list, print\n",
    "    print(number)"
   ]
  },
  {
   "cell_type": "code",
   "execution_count": 9,
   "id": "f2117f24-d6a5-40d2-a509-1d637195dad4",
   "metadata": {},
   "outputs": [
    {
     "name": "stdout",
     "output_type": "stream",
     "text": [
      "Too low.\n",
      "Too low.\n",
      "Too low.\n",
      "Too low.\n",
      "Too low.\n",
      "Too low.\n",
      "Found it!\n"
     ]
    }
   ],
   "source": [
    "# 6.2\n",
    "\n",
    "guess_me = 7\n",
    "number = 1\n",
    "\n",
    "while number <= guess_me:   \n",
    "    if number < guess_me:\n",
    "        print(\"Too low.\")\n",
    "    elif number == guess_me:\n",
    "        print(\"Found it!\")\n",
    "        break # Exits loop if number is the same as guess_me\n",
    "    number += 1 # Increments \"number\" variable\n",
    "    \n",
    "if number > guess_me:\n",
    "        print(\"Oops\")\n",
    "    # number =+ 1 # Increments \"number\" variable"
   ]
  },
  {
   "cell_type": "code",
   "execution_count": 13,
   "id": "1a21a994-16ed-4786-a661-a9c42019c350",
   "metadata": {},
   "outputs": [
    {
     "name": "stdout",
     "output_type": "stream",
     "text": [
      "Too low.\n",
      "Too low.\n",
      "Too low.\n",
      "Too low.\n",
      "Too low.\n",
      "Found it!\n"
     ]
    }
   ],
   "source": [
    "# 6.3\n",
    "\n",
    "guess_me = 5\n",
    "\n",
    "for number in range(10):\n",
    "    if number < guess_me:\n",
    "        print(\"Too low.\")\n",
    "    elif number == guess_me:\n",
    "        print(\"Found it!\")\n",
    "        break\n",
    "    else:\n",
    "        print(\"Oops\")\n",
    "        break"
   ]
  },
  {
   "cell_type": "code",
   "execution_count": null,
   "id": "b24330d5-a362-4191-b220-cd0bc349b857",
   "metadata": {},
   "outputs": [],
   "source": []
  }
 ],
 "metadata": {
  "kernelspec": {
   "display_name": "Python 3 (ipykernel)",
   "language": "python",
   "name": "python3"
  },
  "language_info": {
   "codemirror_mode": {
    "name": "ipython",
    "version": 3
   },
   "file_extension": ".py",
   "mimetype": "text/x-python",
   "name": "python",
   "nbconvert_exporter": "python",
   "pygments_lexer": "ipython3",
   "version": "3.12.7"
  }
 },
 "nbformat": 4,
 "nbformat_minor": 5
}
